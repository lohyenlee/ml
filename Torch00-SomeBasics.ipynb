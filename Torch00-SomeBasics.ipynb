{
 "cells": [
  {
   "cell_type": "markdown",
   "id": "87609550-5469-42e9-9bda-24378616d02f",
   "metadata": {},
   "source": [
    "# Neural Networks in PyTorch\n",
    "## Chapter 1: Neural Network Layers\n",
    "*Yen Lee Loh, 2021-9-1; 2022-9-22*\n",
    "\n",
    "In this Jupyter Lab notebook we demonstrate elementwise layers, linear layers, loss functions, pooling layers, and convolution layers."
   ]
  },
  {
   "cell_type": "markdown",
   "id": "ea7e3fa2-f789-407c-af2c-f739505c0264",
   "metadata": {
    "tags": []
   },
   "source": [
    "---\n",
    "## 0.  Setup"
   ]
  },
  {
   "cell_type": "code",
   "execution_count": 1,
   "id": "3aef155d-580e-4294-a1ed-4fdc91c370bd",
   "metadata": {},
   "outputs": [],
   "source": [
    "import numpy as np\n",
    "import torch\n",
    "import torch.nn as nn\n",
    "import matplotlib.pyplot as plt\n",
    "rng = np.random.default_rng()\n",
    "plt.rcParams.update ({'font.family':'serif', 'font.size':14})"
   ]
  },
  {
   "cell_type": "markdown",
   "id": "4abe5d02-5af3-46ca-9e5b-03d2116806a4",
   "metadata": {
    "tags": []
   },
   "source": [
    "---\n",
    "## 1. Some stuff"
   ]
  },
  {
   "cell_type": "markdown",
   "id": "95e0782f-f961-45ea-aa67-813ee1599b88",
   "metadata": {},
   "source": [
    "## Many data types in Python - some built-in to the language"
   ]
  }
 ],
 "metadata": {
  "kernelspec": {
   "display_name": "Python 3 (ipykernel)",
   "language": "python",
   "name": "python3"
  },
  "language_info": {
   "codemirror_mode": {
    "name": "ipython",
    "version": 3
   },
   "file_extension": ".py",
   "mimetype": "text/x-python",
   "name": "python",
   "nbconvert_exporter": "python",
   "pygments_lexer": "ipython3",
   "version": "3.9.12"
  }
 },
 "nbformat": 4,
 "nbformat_minor": 5
}
